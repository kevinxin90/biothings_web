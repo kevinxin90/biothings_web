{
 "cells": [
  {
   "cell_type": "markdown",
   "metadata": {},
   "source": [
    "#### Step1: Input a list of variants"
   ]
  },
  {
   "cell_type": "code",
   "execution_count": 1,
   "metadata": {
    "collapsed": true
   },
   "outputs": [],
   "source": [
    "variant_list = ['chr6:g.26093141G>A', 'chr12:g.111351981C>T']"
   ]
  },
  {
   "cell_type": "markdown",
   "metadata": {},
   "source": [
    "#### Step2: Get a list of entrez_gene_ids related to the variants"
   ]
  },
  {
   "cell_type": "code",
   "execution_count": 2,
   "metadata": {
    "collapsed": true
   },
   "outputs": [],
   "source": [
    "# import biothings package\n",
    "from biothings import IdListHandler\n",
    "ih = IdListHandler()"
   ]
  },
  {
   "cell_type": "code",
   "execution_count": 3,
   "metadata": {
    "collapsed": false
   },
   "outputs": [
    {
     "name": "stdout",
     "output_type": "stream",
     "text": [
      "['4633', '3077']\n"
     ]
    }
   ],
   "source": [
    "gene_variant_list = ih.list_handler(input_id_list=variant_list, \n",
    "                                    input_type='hgvs_id', \n",
    "                                    output_type='entrez_gene_id')\n",
    "print(gene_variant_list)"
   ]
  },
  {
   "cell_type": "markdown",
   "metadata": {},
   "source": [
    "#### Step3: Get a list of wikipathways_ids related to the entrez_gene_ids"
   ]
  },
  {
   "cell_type": "code",
   "execution_count": 4,
   "metadata": {
    "collapsed": false,
    "scrolled": true
   },
   "outputs": [
    {
     "name": "stdout",
     "output_type": "stream",
     "text": [
      "['WP2406', 'WP3924', 'WP383', 'WP3888', 'WP289']\n"
     ]
    }
   ],
   "source": [
    "pathway_gene_list = ih.list_handler(input_id_list=gene_variant_list, \n",
    "                                    input_type='entrez_gene_id', \n",
    "                                    output_type='wikipathway_id')\n",
    "print(pathway_gene_list)"
   ]
  },
  {
   "cell_type": "markdown",
   "metadata": {},
   "source": [
    "#### Step4: Get a list of entrez_gene_ids related to the wikipathways_ids"
   ]
  },
  {
   "cell_type": "code",
   "execution_count": 5,
   "metadata": {
    "collapsed": false
   },
   "outputs": [
    {
     "name": "stdout",
     "output_type": "stream",
     "text": [
      "['pathway.wikipathways.id']\n",
      "pathway.wikipathways.id:WP2406\n",
      "Fetching 53 genes(s) . . .\n",
      "Number of IDs from mygene.info related to this query pathway.wikipathways.id:WP2406 is : 53\n",
      "['pathway.wikipathways.id']\n",
      "pathway.wikipathways.id:WP3924\n",
      "Fetching 7 genes(s) . . .\n",
      "Number of IDs from mygene.info related to this query pathway.wikipathways.id:WP3924 is : 7\n",
      "['pathway.wikipathways.id']\n",
      "pathway.wikipathways.id:WP383\n",
      "Fetching 38 genes(s) . . .\n",
      "Number of IDs from mygene.info related to this query pathway.wikipathways.id:WP383 is : 38\n",
      "['pathway.wikipathways.id']\n",
      "pathway.wikipathways.id:WP3888\n",
      "Fetching 236 genes(s) . . .\n",
      "Number of IDs from mygene.info related to this query pathway.wikipathways.id:WP3888 is : 236\n",
      "['pathway.wikipathways.id']\n",
      "pathway.wikipathways.id:WP289\n",
      "Fetching 155 genes(s) . . .\n",
      "Number of IDs from mygene.info related to this query pathway.wikipathways.id:WP289 is : 155\n",
      "['2309', '5530', '91807', '22809', '6013', '7220', '5566', '83881', '10971', '4313', '5867', '1386', '5868', '489', '6595', '113', '2868', '3265', '2553', '3710', '2932', '54567', '4691', '59', '10645', '5605', '5609', '9510', '71', '145873', '7070', '290', '1445', '9365', '2870', '6416', '6401', '59350', '2980', '7148', '5020', '3670', '1003', '7414', '5329', '7430', '1902', '10681', '6774', '274', '2243', '94235', '9759', '6656', '2185', '5296', '7295', '5584', '6001', '5062', '2534', '2885', '5576', '818', '115', '10399', '466', '8525', '5803', '5567', '7139', '2113', '219931', '5328', '7125', '5331', '207', '7431', '55872', '867', '4604', '4632', '1500', '4790', '6347', '5321', '3725', '10268', '25759', '10014', '83737', '5577', '2784', '824', '6546', '595', '83939', '1482', '7273', '5460', '5795', '6000', '7532', '5582', '7531', '4208', '4092', '7534', '11318', '3984', '9252', '85366', '3170', '5581', '5997', '3065', '1756', '387', '4684', '6263', '108', '3486', '805', '2244', '2697', '6261', '3487', '100506658', '5879', '3488', '2114', '10818', '3479', '4607', '4635', '3484', '182', '4773', '7111', '79109', '9628', '998', '8772', '3815', '2782', '57057', '5569', '79812', '1213', '598', '5996', '10397', '8821', '2078', '3315', '389', '409', '10287', '1674', '1495', '79923', '5021', '3708', '4626', '9146', '5228', '5336', '3553', '52', '6331', '5780', '10628', '84335', '2475', '109', '5573', '6772', '57381', '2353', '1977', '5592', '7004', '5156', '8736', '114', '9261', '57007', '4646', '4688', '23764', '5563', '654', '4606', '6262', '2081', '2266', '5216', '6648', '196883', '111', '784', '8411', '8826', '7168', '51564', '2549', '5170', '7170', '5601', '5335', '5588', '3481', '4772', '6924', '4624', '6722', '5575', '5580', '3693', '1388', '5908', '5290', '5295', '8557', '5604', '57817', '81', '7137', '5599', '2551', '3688', '10398', '4301', '6910', '79727', '2002', '5579', '382', '2817', '2060', '8936', '301', '7135', '7171', '164656', '154796', '9475', '2152', '6194', '50805', '652', '3303', '54331', '70', '9709', '468', '2982', '2889', '7136', '1827', '8794', '3576', '3485', '3709', '4621', '7852', '7533', '4838', '1796', '5606', '801', '122042', '5608', '4851', '2785', '60', '8490', '9451', '2321', '9241', '64321', '9047', '5080', '1958', '26575', '6464', '59345', '2626', '25865', '5570', '6714', '7134', '6198', '4634', '3690', '133', '5999', '4323', '5142', '4929', '6778', '112', '8013', '4627', '29924', '5743', '51764', '5594', '5747', '27297', '9734', '3320', '6461', '817', '5998', '1499', '6093', '4703', '649', '7410', '6667', '2788', '10231', '8828', '1960', '857', '5322', '3748', '5583', '3685', '7422', '2783', '89', '1558', '5333', '4189', '389421', '4920', '132625', '5578', '4855', '2810', '32', '8787', '796', '7138', '7169', '9564', '8550', '4633', '5770', '2308', '2776', '1385', '5829', '3624', '1432', '4303', '6657', '1398', '3489', '7040', '5777', '8786', '7140', '355', '10488', '596', '8569', '10267', '8027', '3077', '8601', '11142', '1392', '2787', '1072', '6300', '3630', '1265', '2317', '64407', '2274', '4846', '5590', '3569', '2981', '55970', '89780', '31', '488', '6862', '408', '5894', '3164', '10636', '2869', '5781', '3084', '808', '1490', '23291', '2247', '27289', '4792', '9446', '107', '800', '815', '140885', '1839', '11124', '27302', '5906', '2791', '1264', '2887', '5058', '148738', '22943', '55897', '88', '1394', '22899', '64223', '5595', '3490', '8766', '5144', '2778', '58', '4842', '10266', '3397', '2792', '22926', '7529', '467', '4319', '3791', '2786', '253260', '10755', '4217', '653361', '3383', '6004', '4690', '5970', '10699', '816', '5587', '5562']\n"
     ]
    },
    {
     "data": {
      "text/plain": [
       "453"
      ]
     },
     "execution_count": 5,
     "metadata": {},
     "output_type": "execute_result"
    }
   ],
   "source": [
    "gene_pathway_list = ih.list_handler(input_id_list=pathway_gene_list, \n",
    "                                    input_type='wikipathway_id', \n",
    "                                    output_type='entrez_gene_id')\n",
    "print(gene_pathway_list)\n",
    "len(gene_pathway_list)"
   ]
  },
  {
   "cell_type": "markdown",
   "metadata": {},
   "source": [
    "#### Step5: Get a list of disease ontology ids related to the entrez_gene_ids"
   ]
  },
  {
   "cell_type": "code",
   "execution_count": 6,
   "metadata": {
    "collapsed": false
   },
   "outputs": [
    {
     "name": "stdout",
     "output_type": "stream",
     "text": [
      "['FADD', 'PRKCI', 'RXFP2', 'ACKR3', 'PRKCD', 'PKIG', 'ARRB2', 'TPM4', 'FOS', 'TNNT2', 'NFATC2', 'ROR2', 'RAC1', 'GUCA2A', 'RGS17', 'EPS15', 'CBL', 'HDAC4', 'PLA2G4A', 'MKNK1', 'RAPGEF1', 'RGS2', 'PLCG2', 'MESP1', 'PXN', 'WNT3A', 'PRKAR1A', 'FYN', 'PIK3R1', 'RICTOR', 'INPP4B', 'TNXB', 'IGFBP3', 'SRC', 'RGS1', 'TNFRSF10C', 'RGS11', 'PRKAR1B', 'GNG8', 'VCL', 'ETS2', 'MYL1', 'PTPRJ', 'RAB5A', 'ATF1', 'SOX17', 'FLNB', 'PRKCH', 'YWHAQ', 'GNB5', 'MYL3', 'GRB10', 'ADCY8', 'BCL2L1', 'FGA', 'PTPN6', 'HBEGF', 'PAK2', 'NR4A3', 'TBX20', 'RGS5', 'OXTR', 'SH2D2A', 'PBK', 'JUN', 'MYBPC1', 'LIN28A', 'GNG2', 'CYP2C8', 'NFKBIA', 'TMOD1', 'RGS19', 'CCND1', 'ATP2A2', 'CALCA', 'LIMK1', 'EIF2A', 'TNNI2', 'MAP3K5', 'PPP3CA', 'THY1', 'IGFBP2', 'ARRB1', 'NCF2', 'MYL4', 'ATF4', 'GNG7', 'EPN1', 'DLL4', 'STAT3', 'GNG3', 'SOD2', 'MAP2K1', 'TNNI1', 'HSP90AA1', 'NOS3', 'PRKG1', 'EEA1', 'IL1B', 'RAMP2', 'CTNNA1', 'YWHAE', 'IGFBP5', 'MMRN2', 'ITCH', 'DKK1', 'RGS4', 'ISL1', 'MYBPC2', 'VAV2', 'CRH', 'MAPK12', 'SELE', 'PRKAR2B', 'ATF6B', 'RAMP1', 'ELK1', 'CAMK2A', 'CDC42', 'ITPR1', 'PRKCA', 'GNG12', 'GAB1', 'MAP2K2', 'ADAMTS1', 'DMD', 'PIK3CA', 'MLST8', 'SMARCA2', 'EIF2AK3', 'GNB4', 'ZFP42', 'MAP2K3', 'ITPR3', 'PKIA', 'NDRG1', 'ATF2', 'GNG5', 'RGS9', 'GSTO1', 'TNNC1', 'RAP1B', 'STAM', 'HFE2', 'MYBPC3', 'POU5F1', 'ADCY1', 'MMP10', 'FOXO3', 'HGS', 'PTK2B', 'DOK1', 'RAB4A', 'IQGAP1', 'BMP1', 'GATA4', 'SP1', 'RCAN2', 'NRG1', 'RCAN1', 'STAT1', 'ADCY5', 'PRKACB', 'GRK5', 'FOXA2', 'BMP4', 'GIPC1', 'CAMK2B', 'EZR', 'FGF2', 'GSK3B', 'NCL', 'CTNNB1', 'STAT6', 'HAMP', 'GUCY1A3', 'MTOR', 'PTGS2', 'ITGB5', 'ATF3', 'ID1', 'MAPK9', 'EGR3', 'GABPA', 'RHOC', 'HSPA1A', 'RGS20', 'ACACB', 'LIN28B', 'SHB', 'CXCL8', 'ROCK2', 'NR4A2', 'NCF1', 'CREB3', 'GNB1', 'NOG', 'MYO6', 'GPR182', 'CXCR4', 'MAPKAP1', 'IGFBP1', 'AFDN', 'ACTG1', 'BCAR1', 'GUCA2B', 'CRCP', 'IRX4', 'IGFBP7', 'HRAS', 'PDGFRA', 'HDAC9', 'PLAUR', 'NKX2-5', 'BMP6', 'NANOG', 'AKT1S1', 'ACTN2', 'PRKACA', 'RGS16', 'NRP2', 'DNAJB9', 'ACACA', 'RGS18', 'PTPN9', 'TNNI3', 'IL6', 'NOS1', 'SCN5A', 'GNB3', 'VIM', 'HSPB1', 'SRF', 'RYR3', 'RGS6', 'TTN', 'CLTC', 'FHL2', 'MYH6', 'OXT', 'SIRPA', 'SOX2', 'RLN1', 'TXN', 'RPS6', 'CAMK2D', 'SOX1', 'ERG', 'SLC8A1', 'WASF1', 'MESP2', 'PRKAA2', 'PAX6', 'CALM2', 'HERPUD1', 'ATF5', 'ANXA1', 'PLA2G5', 'RGS14', 'MYH8', 'NEB', 'CRK', 'MEF2C', 'ADCY9', 'AMOT', 'TEAD4', 'PRKD2', 'RAB11A', 'PRKD1', 'RHOJ', 'MAPK3', 'ADCY7', 'SHC2', 'PLCD1', 'MYL2', 'GRK6', 'MAPKAPK5', 'IGF1', 'NR4A1', 'MYL9', 'TNNT3', 'ADCY4', 'KIT', 'HFE', 'RPS6KA5', 'PRKCB', 'BMP10', 'IGF2', 'ADM', 'ITGAV', 'RHOA', 'KDR', 'MIXL1', 'MMP2', 'TPM1', 'GNG13', 'PRKCG', 'SFN', 'RGS10', 'JAG1', 'HDAC1', 'YWHAH', 'NOTCH1', 'FLT1', 'RACK1', 'MAPK14', 'RAF1', 'ITGB3', 'GPC1', 'HDAC7', 'GRK4', 'TPCN2', 'BIN1', 'ROCK1', 'SHC1', 'PRKCE', 'MMP14', 'YWHAZ', 'ADCY6', 'IGFBP6', 'PRKAR2A', 'GNGT1', 'CACNB3', 'CFL1', 'ACTC1', 'FGB', 'ACP1', 'ATP2A3', 'CAPN2', 'CAMKK2', 'CALM3', 'PLCG1', 'INHBA', 'NFKB1', 'CAV1', 'FOXO1', 'RAMP3', 'CSK', 'T', 'RAP1A', 'PLCB3', 'MYOM1', 'RGS3', 'TGFB1', 'ETS1', 'MYLK2', 'GABPB1', 'TPM3', 'ICAM1', 'PFN1', 'CORIN', 'KL', 'TNNT1', 'CALM1', 'ITPR2', 'RGS7', 'PRKCQ', 'FOXO4', 'MAP2K4', 'MAPK1', 'ARHGEF15', 'PTK2', 'TNNC2', 'ACTN4', 'F3', 'MAPKAPK2', 'PDPK1', 'HDAC5', 'NOTCH4', 'ACTA1', 'LPAR1', 'CTNND1', 'CNN2', 'VEGFA', 'TXNIP', 'MYLK3', 'GNB2', 'TCAP', 'ADCY3', 'NFATC1', 'PTPN11', 'TMPRSS6', 'CAMK2G', 'SMAD7', 'ERN1', 'DGKZ', 'CDH5', 'FBXW11', 'GJA1', 'FRS2', 'ARF6', 'PRKCZ', 'NODAL', 'ACTN3', 'MAPK8', 'INS', 'PDE4D', 'FGG', 'GRB2', 'RELA', 'ITGB1', 'PRKAA1', 'PIK3R2', 'YWHAG', 'EIF4E', 'GNG4', 'AKT1', 'GNAQ', 'PTPRZ1', 'TPM2', 'PKIB', 'CRHR1', 'RYR1', 'DES', 'CREB1', 'RND1', 'PGF', 'EGR1', 'PAK1', 'MAP2K6', 'CNN1', 'TBX5', 'GNAS', 'GNG11', 'RXFP1', 'FAF1', 'CCL2', 'NCK1', 'ELOA', 'PTPN1', 'RPS6KB1', 'PLAU', 'BCL2', 'FAS', 'OCLN', 'MAP2K7', 'ANPEP', 'IGFBP4', 'KCNC3', 'ATF6', 'CALD1', 'TRPC1', 'CTGF', 'ADCY2', 'RYR2', 'NCAM1', 'MYH9', 'PDE4B', 'ACTA2', 'MAFF', 'ACTB', 'YWHAB', 'MYH3']\n"
     ]
    },
    {
     "data": {
      "text/plain": [
       "453"
      ]
     },
     "execution_count": 6,
     "metadata": {},
     "output_type": "execute_result"
    }
   ],
   "source": [
    "symbol_gene_list = ih.list_handler(input_id_list=gene_pathway_list, \n",
    "                                   input_type='entrez_gene_id', \n",
    "                                   output_type='hgnc_gene_symbol')\n",
    "print(symbol_gene_list)\n",
    "len(symbol_gene_list)"
   ]
  },
  {
   "cell_type": "code",
   "execution_count": 8,
   "metadata": {
    "collapsed": false
   },
   "outputs": [
    {
     "name": "stdout",
     "output_type": "stream",
     "text": [
      "invalid uri: http://lynx.ci.uchicago.edu/gediresources/resources/genes/9606/ELOA/diseases\n",
      "invalid uri: http://lynx.ci.uchicago.edu/gediresources/resources/genes/9606/AFDN/diseases\n",
      "invalid uri: http://lynx.ci.uchicago.edu/gediresources/resources/genes/9606/RACK1/diseases\n",
      "['DOID:6652', 'DOID:898', 'DOID:11713', 'DOID:8398', 'DOID:9074', 'DOID:14711', 'DOID:10983', 'DOID:12270', 'DOID:7608', 'DOID:9072', 'DOID:5199', 'DOID:1459', 'DOID:7465', 'DOID:11338', 'DOID:0060053', 'DOID:10652', 'DOID:252', 'DOID:6688', 'DOID:1928', 'DOID:10471', 'DOID:10250', 'DOID:8857', 'DOID:12388', 'DOID:13025', 'DOID:2351', 'DOID:13316', 'DOID:1555', 'DOID:9255', 'DOID:11249', 'DOID:2018', 'DOID:0050459', 'DOID:5557', 'DOID:83', 'DOID:12287', 'DOID:0050451', 'DOID:6725', 'DOID:9463', 'DOID:11830', 'DOID:1289', 'DOID:557', 'DOID:11971', 'DOID:997', 'DOID:2368', 'DOID:9620', 'DOID:0050328', 'DOID:11383', 'DOID:11476', 'DOID:8544', 'DOID:1595', 'DOID:11514', 'DOID:507', 'DOID:0050466', 'DOID:0050563', 'DOID:12185', 'DOID:0050129', 'DOID:9362', 'DOID:1856', 'DOID:1508', 'DOID:10017', 'DOID:4990', 'DOID:7683', 'DOID:1751', 'DOID:13941', 'DOID:4154', 'DOID:8622', 'DOID:3390', 'DOID:2120', 'DOID:12510', 'DOID:0050547', 'DOID:5015', 'DOID:5138', 'DOID:3314', 'DOID:114', 'DOID:9169', 'DOID:4989', 'DOID:255', 'DOID:0050680', 'DOID:9159', 'DOID:2736', 'DOID:1328', 'DOID:13359', 'DOID:12347', 'DOID:11994', 'DOID:11105', 'DOID:14021', 'DOID:718', 'DOID:10485', 'DOID:4480', 'DOID:3341', 'DOID:5223', 'DOID:0050741', 'DOID:9263', 'DOID:2283', 'DOID:3946', 'DOID:4226', 'DOID:13709', 'DOID:10934', 'DOID:10595', 'DOID:10763', 'DOID:9631', 'DOID:230', 'DOID:13099', 'DOID:4449', 'DOID:14749', 'DOID:4677', 'DOID:585', 'DOID:13543', 'DOID:13948', 'DOID:11836', 'DOID:0080031', 'DOID:14764', 'DOID:14289', 'DOID:4500', 'DOID:6712', 'DOID:2951', 'DOID:12197', 'DOID:4977', 'DOID:7997', 'DOID:1602', 'DOID:10941', 'DOID:0050601', 'DOID:539', 'DOID:11599', 'DOID:11613', 'DOID:13482', 'DOID:678', 'DOID:1116', 'DOID:3261', 'DOID:3455', 'DOID:2734', 'DOID:8337', 'DOID:12271', 'DOID:10241', 'DOID:2340', 'DOID:3192', 'DOID:1787', 'DOID:4534', 'DOID:11198', 'DOID:9775', 'DOID:11724', 'DOID:594', 'DOID:13580', 'DOID:0060042', 'DOID:1115', 'DOID:13141', 'DOID:3308', 'DOID:14325', 'DOID:4242', 'DOID:13922', 'DOID:1395', 'DOID:14515', 'DOID:180', 'DOID:12176', 'DOID:10892', 'DOID:227', 'DOID:9912', 'DOID:3191', 'DOID:3388', 'DOID:1570', 'DOID:4471', 'DOID:3385', 'DOID:3827', 'DOID:13774', 'DOID:10003', 'DOID:341', 'DOID:10762', 'DOID:8717', 'DOID:12929', 'DOID:10016', 'DOID:217', 'DOID:7148', 'DOID:9675', 'DOID:2497', 'DOID:1882', 'DOID:12365', 'DOID:10632', 'DOID:8725', 'DOID:9971', 'DOID:10608', 'DOID:14115', 'DOID:1933', 'DOID:750', 'DOID:1392', 'DOID:1099', 'DOID:10605', 'DOID:3770', 'DOID:2891', 'DOID:6682', 'DOID:900', 'DOID:1227', 'DOID:3577', 'DOID:674', 'DOID:1883', 'DOID:936', 'DOID:0050771', 'DOID:0050084', 'DOID:2856', 'DOID:5062', 'DOID:5732', 'DOID:12932', 'DOID:0050649', 'DOID:3613', 'DOID:9461', 'DOID:409', 'DOID:13357', 'DOID:2321', 'DOID:12721', 'DOID:9822', 'DOID:2236', 'DOID:11914', 'DOID:2316', 'DOID:5327', 'DOID:10930', 'DOID:13481', 'DOID:6552', 'DOID:127', 'DOID:14550', 'DOID:2479', 'DOID:0060001', 'DOID:9682', 'DOID:684', 'DOID:0050656', 'DOID:1686', 'DOID:4610', 'DOID:5408', 'DOID:4297', 'DOID:12930', 'DOID:13884', 'DOID:13911', 'DOID:4415', 'DOID:3783', 'DOID:3082', 'DOID:13374', 'DOID:0080036', 'DOID:9406', 'DOID:0050012', 'DOID:2215', 'DOID:0050650', 'DOID:3463', 'DOID:11335', 'DOID:3482', 'DOID:10629', 'DOID:1441', 'DOID:8465', 'DOID:3132', 'DOID:10247', 'DOID:8469', 'DOID:705', 'DOID:10159', 'DOID:11801', 'DOID:13381', 'DOID:7212', 'DOID:10376', 'DOID:1588', 'DOID:4621', 'DOID:1657', 'DOID:8411', 'DOID:14681', 'DOID:1184', 'DOID:10126', 'DOID:9778', 'DOID:9201', 'DOID:216', 'DOID:0050470', 'DOID:3205', 'DOID:11504', 'DOID:11193', 'DOID:4195', 'DOID:2717', 'DOID:3393', 'DOID:9120', 'DOID:4531', 'DOID:5213', 'DOID:37', 'DOID:10487', 'DOID:520', 'DOID:9146', 'DOID:3371', 'DOID:5572', 'DOID:850', 'DOID:13760', 'DOID:14116', 'DOID:8102', 'DOID:8670', 'DOID:374', 'DOID:4184', 'DOID:11184', 'DOID:1724', 'DOID:0050471', 'DOID:5363', 'DOID:7017', 'DOID:12680', 'DOID:6419', 'DOID:12259', 'DOID:3263', 'DOID:14004', 'DOID:381', 'DOID:2799', 'DOID:7693', 'DOID:1168', 'DOID:3829', 'DOID:2921', 'DOID:0050120', 'DOID:2247', 'DOID:4744', 'DOID:384', 'DOID:3223', 'DOID:6683', 'DOID:12638', 'DOID:8893', 'DOID:365', 'DOID:4481', 'DOID:11722', 'DOID:4418', 'DOID:9720', 'DOID:11486', 'DOID:2355', 'DOID:9649', 'DOID:12841', 'DOID:8466', 'DOID:9351', 'DOID:9857', 'DOID:2559', 'DOID:0050589', 'DOID:8997', 'DOID:0060072', 'DOID:0050127', 'DOID:2733', 'DOID:2710', 'DOID:1727', 'DOID:14693', 'DOID:8545', 'DOID:2843', 'DOID:2703', 'DOID:10328', 'DOID:12134', 'DOID:2231', 'DOID:12986', 'DOID:399', 'DOID:0050556', 'DOID:332', 'DOID:14250', 'DOID:11555', 'DOID:9065', 'DOID:656', 'DOID:3852', 'DOID:6612', 'DOID:3301', 'DOID:11405', 'DOID:12707', 'DOID:0050758', 'DOID:12678', 'DOID:11720', 'DOID:7327', 'DOID:14451', 'DOID:10952', 'DOID:1875', 'DOID:9637', 'DOID:9245', 'DOID:11986', 'DOID:3083', 'DOID:841', 'DOID:2219', 'DOID:9409', 'DOID:12639', 'DOID:6000', 'DOID:3781', 'DOID:3950', 'DOID:3878', 'DOID:11984', 'DOID:5844', 'DOID:11573', 'DOID:1829', 'DOID:8924', 'DOID:13938', 'DOID:302', 'DOID:2746', 'DOID:0050160', 'DOID:9993', 'DOID:627', 'DOID:4123', 'DOID:13949', 'DOID:0080047', 'DOID:848', 'DOID:1607', 'DOID:14330', 'DOID:2048', 'DOID:5766', 'DOID:11870', 'DOID:0060145', 'DOID:12583', 'DOID:10095', 'DOID:870', 'DOID:9279', 'DOID:0050445', 'DOID:824', 'DOID:10873', 'DOID:2237', 'DOID:11119', 'DOID:14482', 'DOID:14472', 'DOID:11983', 'DOID:2093', 'DOID:3529', 'DOID:11199', 'DOID:9974', 'DOID:1924', 'DOID:4692', 'DOID:631', 'DOID:3766', 'DOID:12700', 'DOID:3883', 'DOID:811', 'DOID:9471', 'DOID:1921', 'DOID:0050685', 'DOID:0050432', 'DOID:3275', 'DOID:14654', 'DOID:0050195', 'DOID:7998', 'DOID:1426', 'DOID:9588', 'DOID:11723', 'DOID:2366', 'DOID:1070', 'DOID:397', 'DOID:593', 'DOID:12402', 'DOID:0050731', 'DOID:9643', 'DOID:0050453', 'DOID:2344', 'DOID:9719', 'DOID:4347', 'DOID:10584', 'DOID:4310', 'DOID:118', 'DOID:13628', 'DOID:0050424', 'DOID:13533', 'DOID:4252', 'DOID:0060074', 'DOID:12385', 'DOID:231', 'DOID:13576', 'DOID:13945', 'DOID:9699', 'DOID:4613', 'DOID:5082', 'DOID:0080041', 'DOID:3265', 'DOID:8498', 'DOID:418', 'DOID:13209', 'DOID:1629', 'DOID:84', 'DOID:0050480', 'DOID:319', 'DOID:2848', 'DOID:693', 'DOID:0080032', 'DOID:0050439', 'DOID:657', 'DOID:1074', 'DOID:2222', 'DOID:9274', 'DOID:2043', 'DOID:14221', 'DOID:5434', 'DOID:3369', 'DOID:0050073', 'DOID:14484', 'DOID:0050175', 'DOID:0050697', 'DOID:2216', 'DOID:3319', 'DOID:1270', 'DOID:162', 'DOID:767', 'DOID:1432', 'DOID:14039', 'DOID:0060014', 'DOID:8504', 'DOID:552', 'DOID:0060098', 'DOID:0050568', 'DOID:327', 'DOID:526', 'DOID:119', 'DOID:10845', 'DOID:4428', 'DOID:3086', 'DOID:3491', 'DOID:10690', 'DOID:5614', 'DOID:13832', 'DOID:7551', 'DOID:2962', 'DOID:423', 'DOID:573', 'DOID:8283', 'DOID:0050336', 'DOID:0050325', 'DOID:10841', 'DOID:12336', 'DOID:1498', 'DOID:1148', 'DOID:4078', 'DOID:13461', 'DOID:2449', 'DOID:9667', 'DOID:11612', 'DOID:0050214', 'DOID:178', 'DOID:13317', 'DOID:1920', 'DOID:3070', 'DOID:0060058', 'DOID:615', 'DOID:529', 'DOID:10087', 'DOID:5435', 'DOID:2352', 'DOID:2615', 'DOID:2235', 'DOID:11320', 'DOID:1561', 'DOID:2450', 'DOID:11049', 'DOID:0050646', 'DOID:0060173', 'DOID:1059', 'DOID:2841', 'DOID:990', 'DOID:0050581', 'DOID:0050711', 'DOID:14717', 'DOID:4724', 'DOID:999', 'DOID:3138', 'DOID:0050753', 'DOID:11162', 'DOID:4959', 'DOID:10914', 'DOID:96', 'DOID:1936', 'DOID:10871', 'DOID:0050750', 'DOID:8712', 'DOID:649', 'DOID:0050676', 'DOID:289', 'DOID:11516', 'DOID:4952', 'DOID:9452', 'DOID:10283', 'DOID:8805', 'DOID:13250', 'DOID:1909', 'DOID:5426', 'DOID:3310', 'DOID:9296', 'DOID:3891', 'DOID:13622', 'DOID:0080001', 'DOID:13515', 'DOID:5374', 'DOID:2229', 'DOID:2723', 'DOID:2451', 'DOID:417', 'DOID:7765', 'DOID:0050486', 'DOID:5077', 'DOID:5419', 'DOID:0050469', 'DOID:3650', 'DOID:13094', 'DOID:13964', 'DOID:11206', 'DOID:4540', 'DOID:2217', 'DOID:12451', 'DOID:77', 'DOID:2988', 'DOID:2030', 'DOID:74', 'DOID:6740', 'DOID:4400', 'DOID:12387', 'DOID:654', 'DOID:9521', 'DOID:4644', 'DOID:11996', 'DOID:2211', 'DOID:6088', 'DOID:3312', 'DOID:2583', 'DOID:13781', 'DOID:3602', 'DOID:3179', 'DOID:10573', 'DOID:11981', 'DOID:988', 'DOID:0050429', 'DOID:1858', 'DOID:1339', 'DOID:11396', 'DOID:9884', 'DOID:4752', 'DOID:182', 'DOID:13778', 'DOID:3079', 'DOID:1389', 'DOID:2602', 'DOID:7147', 'DOID:5142', 'DOID:2560', 'DOID:0050591', 'DOID:14291', 'DOID:2725', 'DOID:10459', 'DOID:10783', 'DOID:0050524', 'DOID:2377', 'DOID:635', 'DOID:1711', 'DOID:13862', 'DOID:8616', 'DOID:10754', 'DOID:12205', 'DOID:6420', 'DOID:4997', 'DOID:5295', 'DOID:1586', 'DOID:12858', 'DOID:12849', 'DOID:820', 'DOID:13401', 'DOID:0050430', 'DOID:8778', 'DOID:12169', 'DOID:7427', 'DOID:3305', 'DOID:11247', 'DOID:607', 'DOID:0050246', 'DOID:10591', 'DOID:9973', 'DOID:8947', 'DOID:12531', 'DOID:12252', 'DOID:7166', 'DOID:4029', 'DOID:14748', 'DOID:1800', 'DOID:3490', 'DOID:8677', 'DOID:0050648', 'DOID:1205', 'DOID:1712', 'DOID:10842', 'DOID:1485', 'DOID:3087', 'DOID:6457', 'DOID:4267', 'DOID:14000', 'DOID:14042', 'DOID:2113', 'DOID:8577', 'DOID:61', 'DOID:308', 'DOID:9834', 'DOID:8432', 'DOID:9007', 'DOID:65', 'DOID:0050606', 'DOID:13003', 'DOID:1373', 'DOID:2661', 'DOID:801', 'DOID:8501', 'DOID:10908', 'DOID:10325', 'DOID:13068', 'DOID:1002', 'DOID:7144', 'DOID:12935', 'DOID:14669', 'DOID:11030', 'DOID:10609', 'DOID:12716', 'DOID:865', 'DOID:1682', 'DOID:576', 'DOID:6364', 'DOID:14498', 'DOID:11258']\n"
     ]
    }
   ],
   "source": [
    "disease_symbol_list = ih.list_handler(input_id_list=symbol_gene_list, \n",
    "                                      input_type='hgnc_gene_symbol', \n",
    "                                      output_type='diseaseontology_id')\n",
    "print(disease_symbol_list)"
   ]
  },
  {
   "cell_type": "code",
   "execution_count": 7,
   "metadata": {
    "collapsed": false
   },
   "outputs": [],
   "source": [
    "symbol_gene_list = symbol_gene_list[0:30]"
   ]
  },
  {
   "cell_type": "markdown",
   "metadata": {},
   "source": [
    "#### Step6: Get a list of drug namess that inhibit the entrez_gene_ids"
   ]
  },
  {
   "cell_type": "code",
   "execution_count": 8,
   "metadata": {
    "collapsed": false
   },
   "outputs": [
    {
     "name": "stdout",
     "output_type": "stream",
     "text": [
      "invalid uri: http://localhost:8899/dgidb/FADD\n",
      "invalid uri: http://localhost:8899/dgidb/RXFP2\n",
      "invalid uri: http://localhost:8899/dgidb/PKIG\n",
      "invalid uri: http://localhost:8899/dgidb/ARRB2\n",
      "invalid uri: http://localhost:8899/dgidb/TPM4\n",
      "invalid uri: http://localhost:8899/dgidb/FOS\n",
      "invalid uri: http://localhost:8899/dgidb/TNNT2\n",
      "invalid uri: http://localhost:8899/dgidb/NFATC2\n",
      "invalid uri: http://localhost:8899/dgidb/ROR2\n",
      "invalid uri: http://localhost:8899/dgidb/GUCA2A\n",
      "invalid uri: http://localhost:8899/dgidb/RGS17\n",
      "invalid uri: http://localhost:8899/dgidb/EPS15\n",
      "invalid uri: http://localhost:8899/dgidb/MKNK1\n",
      "invalid uri: http://localhost:8899/dgidb/RAPGEF1\n",
      "invalid uri: http://localhost:8899/dgidb/RGS2\n",
      "invalid uri: http://localhost:8899/dgidb/MESP1\n",
      "invalid uri: http://localhost:8899/dgidb/PXN\n",
      "invalid uri: http://localhost:8899/dgidb/WNT3A\n",
      "{'FADD': None, 'PXN': None, 'PRKCI': ['SOPHORETIN'], 'RXFP2': None, 'ACKR3': [], 'PRKAR1A': [], 'FYN': ['VX-680', 'DASATINIB'], 'PRKCD': ['SOPHORETIN', 'KAI-9803'], 'PKIG': None, 'ARRB2': None, 'EPS15': None, 'TPM4': None, 'WNT3A': None, 'CBL': [], 'FOS': None, 'PIK3R1': ['SOPHORETIN', 'PI-103', 'GSK2126458', 'SF1126', 'GSK2636771', 'PKI-587', 'XL147', 'GDC-0941', 'GDC-0980'], 'TNNT2': None, 'HDAC4': ['PANOBINOSTAT', 'BELINOSTAT', 'VORINOSTAT', 'DACINOSTAT', 'PIVANEX', 'PCI-24781', 'VALPROIC ACID'], 'PLA2G4A': ['QUINACRINE'], 'NFATC2': None, 'MKNK1': None, 'RAPGEF1': None, 'ROR2': None, 'RICTOR': ['AZD8055', 'OSI-027'], 'RAC1': [], 'RGS2': None, 'GUCA2A': None, 'RGS17': None, 'PLCG2': [], 'MESP1': None}\n"
     ]
    }
   ],
   "source": [
    "drug_inhibit_list = ih.list_handler(input_id_list=symbol_gene_list, \n",
    "                                    input_type='hgnc_gene_symbol', \n",
    "                                    output_type='drug_symbol', \n",
    "                                    relation='oban:is_inhibited_by')\n",
    "print(drug_inhibit_list)\n"
   ]
  },
  {
   "cell_type": "code",
   "execution_count": 11,
   "metadata": {
    "collapsed": false
   },
   "outputs": [
    {
     "name": "stdout",
     "output_type": "stream",
     "text": [
      "{'FYN': ['VX-680', 'DASATINIB'], 'PRKCD': ['SOPHORETIN', 'KAI-9803'], 'PRKCI': ['SOPHORETIN'], 'HDAC4': ['PANOBINOSTAT', 'BELINOSTAT', 'VORINOSTAT', 'DACINOSTAT', 'PIVANEX', 'PCI-24781', 'VALPROIC ACID'], 'PLA2G4A': ['QUINACRINE'], 'PIK3R1': ['SOPHORETIN', 'PI-103', 'GSK2126458', 'SF1126', 'GSK2636771', 'PKI-587', 'XL147', 'GDC-0941', 'GDC-0980'], 'RICTOR': ['AZD8055', 'OSI-027']}\n"
     ]
    }
   ],
   "source": [
    "new_dict = {}\n",
    "for _gene, _drug in drug_inhibit_symbol_dict.items():\n",
    "    if _drug!=None and _drug!=[]:\n",
    "        new_dict[_gene] = _drug\n",
    "print(new_dict)"
   ]
  },
  {
   "cell_type": "code",
   "execution_count": null,
   "metadata": {
    "collapsed": true
   },
   "outputs": [],
   "source": []
  }
 ],
 "metadata": {
  "kernelspec": {
   "display_name": "Python 3",
   "language": "python",
   "name": "python3"
  },
  "language_info": {
   "codemirror_mode": {
    "name": "ipython",
    "version": 3
   },
   "file_extension": ".py",
   "mimetype": "text/x-python",
   "name": "python",
   "nbconvert_exporter": "python",
   "pygments_lexer": "ipython3",
   "version": "3.5.0"
  }
 },
 "nbformat": 4,
 "nbformat_minor": 0
}
